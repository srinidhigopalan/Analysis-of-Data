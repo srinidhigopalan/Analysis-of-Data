{
 "cells": [
  {
   "cell_type": "code",
   "execution_count": 59,
   "id": "a3716a41",
   "metadata": {},
   "outputs": [],
   "source": [
    "import pandas as pd"
   ]
  },
  {
   "cell_type": "code",
   "execution_count": 60,
   "id": "a3374b5d",
   "metadata": {},
   "outputs": [],
   "source": [
    " df = pd.read_csv('C://Users/r_sri/OneDrive/Documents/archive/Financial_Services.csv')"
   ]
  },
  {
   "cell_type": "code",
   "execution_count": 61,
   "id": "64d9b19c",
   "metadata": {},
   "outputs": [
    {
     "data": {
      "text/html": [
       "<div>\n",
       "<style scoped>\n",
       "    .dataframe tbody tr th:only-of-type {\n",
       "        vertical-align: middle;\n",
       "    }\n",
       "\n",
       "    .dataframe tbody tr th {\n",
       "        vertical-align: top;\n",
       "    }\n",
       "\n",
       "    .dataframe thead th {\n",
       "        text-align: right;\n",
       "    }\n",
       "</style>\n",
       "<table border=\"1\" class=\"dataframe\">\n",
       "  <thead>\n",
       "    <tr style=\"text-align: right;\">\n",
       "      <th></th>\n",
       "      <th>Unnamed: 0</th>\n",
       "      <th>name</th>\n",
       "      <th>rating</th>\n",
       "      <th>reviews</th>\n",
       "      <th>company_type</th>\n",
       "      <th>Head_Quarters</th>\n",
       "      <th>Company_Age</th>\n",
       "      <th>No_of_Employee</th>\n",
       "    </tr>\n",
       "  </thead>\n",
       "  <tbody>\n",
       "    <tr>\n",
       "      <th>0</th>\n",
       "      <td>0</td>\n",
       "      <td>ICICI Bank</td>\n",
       "      <td>4.0</td>\n",
       "      <td>(33.6k Reviews)</td>\n",
       "      <td>Public</td>\n",
       "      <td>Mumbai,Maharashtra + 1020 more</td>\n",
       "      <td>28</td>\n",
       "      <td>1 Lakh+ Employees (India)</td>\n",
       "    </tr>\n",
       "    <tr>\n",
       "      <th>1</th>\n",
       "      <td>1</td>\n",
       "      <td>HDFC Bank</td>\n",
       "      <td>4.0</td>\n",
       "      <td>(37.9k Reviews)</td>\n",
       "      <td>Public</td>\n",
       "      <td>Mumbai,Maharashtra + 1168 more</td>\n",
       "      <td>28</td>\n",
       "      <td>1 Lakh+ Employees (India)</td>\n",
       "    </tr>\n",
       "    <tr>\n",
       "      <th>2</th>\n",
       "      <td>2</td>\n",
       "      <td>HCL Technologies</td>\n",
       "      <td>3.9</td>\n",
       "      <td>(17.4k Reviews)</td>\n",
       "      <td>Public</td>\n",
       "      <td>Noida,Uttar Pradesh + 138 more</td>\n",
       "      <td>31</td>\n",
       "      <td>1 Lakh+ Employees (India)</td>\n",
       "    </tr>\n",
       "    <tr>\n",
       "      <th>3</th>\n",
       "      <td>3</td>\n",
       "      <td>Axis Bank</td>\n",
       "      <td>3.9</td>\n",
       "      <td>(18.3k Reviews)</td>\n",
       "      <td>Public</td>\n",
       "      <td>Mumbai,Maharashtra + 1041 more</td>\n",
       "      <td>29</td>\n",
       "      <td>1 Lakh+ Employees (India)</td>\n",
       "    </tr>\n",
       "    <tr>\n",
       "      <th>4</th>\n",
       "      <td>4</td>\n",
       "      <td>IBM</td>\n",
       "      <td>4.2</td>\n",
       "      <td>(20.7k Reviews)</td>\n",
       "      <td>Public</td>\n",
       "      <td>Armonk,New York + 115 more</td>\n",
       "      <td>111</td>\n",
       "      <td>1 Lakh+ Employees (India)</td>\n",
       "    </tr>\n",
       "  </tbody>\n",
       "</table>\n",
       "</div>"
      ],
      "text/plain": [
       "   Unnamed: 0              name  rating          reviews company_type  \\\n",
       "0           0        ICICI Bank     4.0  (33.6k Reviews)       Public   \n",
       "1           1         HDFC Bank     4.0  (37.9k Reviews)       Public   \n",
       "2           2  HCL Technologies     3.9  (17.4k Reviews)       Public   \n",
       "3           3         Axis Bank     3.9  (18.3k Reviews)       Public   \n",
       "4           4               IBM     4.2  (20.7k Reviews)       Public   \n",
       "\n",
       "                    Head_Quarters Company_Age             No_of_Employee  \n",
       "0  Mumbai,Maharashtra + 1020 more          28  1 Lakh+ Employees (India)  \n",
       "1  Mumbai,Maharashtra + 1168 more          28  1 Lakh+ Employees (India)  \n",
       "2  Noida,Uttar Pradesh + 138 more          31  1 Lakh+ Employees (India)  \n",
       "3  Mumbai,Maharashtra + 1041 more          29  1 Lakh+ Employees (India)  \n",
       "4      Armonk,New York + 115 more         111  1 Lakh+ Employees (India)  "
      ]
     },
     "execution_count": 61,
     "metadata": {},
     "output_type": "execute_result"
    }
   ],
   "source": [
    "df.head()"
   ]
  },
  {
   "cell_type": "code",
   "execution_count": 62,
   "id": "3308e9e8",
   "metadata": {},
   "outputs": [
    {
     "data": {
      "text/plain": [
       "(8970, 8)"
      ]
     },
     "execution_count": 62,
     "metadata": {},
     "output_type": "execute_result"
    }
   ],
   "source": [
    "df.shape"
   ]
  },
  {
   "cell_type": "code",
   "execution_count": 63,
   "id": "86202dea",
   "metadata": {},
   "outputs": [
    {
     "data": {
      "text/plain": [
       "51-200 Employees (India)         602\n",
       "201-500 Employees (India)        281\n",
       "11-50 Employees (Global)         252\n",
       "1k-5k Employees (India)          227\n",
       "11-50 Employees (India)          219\n",
       "501-1k Employees (India)         177\n",
       "51-200 Employees (Global)        171\n",
       "10k-50k Employees (India)         85\n",
       "201-500 Employees (Global)        69\n",
       "1k-5k Employees (Global)          67\n",
       "501-1k Employees (Global)         42\n",
       "5k-10k Employees (India)          42\n",
       "1-10 Employees (India)            22\n",
       "1 Lakh+ Employees (India)         21\n",
       "10k-50k Employees (Global)        19\n",
       "50k-1 Lakh Employees (India)      13\n",
       "5k-10k Employees (Global)          8\n",
       "2-10 Employees (Global)            5\n",
       "1 Lakh+ Employees (Global)         3\n",
       "50k-1 Lakh Employees (Global)      3\n",
       "10k+ Employees (Global)            2\n",
       "1-10 Employees (Global)            2\n",
       "Name: No_of_Employee, dtype: int64"
      ]
     },
     "execution_count": 63,
     "metadata": {},
     "output_type": "execute_result"
    }
   ],
   "source": [
    "df[\"No_of_Employee\"].value_counts()"
   ]
  },
  {
   "cell_type": "code",
   "execution_count": 64,
   "id": "cf49cf6f",
   "metadata": {},
   "outputs": [
    {
     "data": {
      "text/plain": [
       "51-200 Employees (India)         0.258148\n",
       "201-500 Employees (India)        0.120497\n",
       "11-50 Employees (Global)         0.108062\n",
       "1k-5k Employees (India)          0.097341\n",
       "11-50 Employees (India)          0.093911\n",
       "501-1k Employees (India)         0.075901\n",
       "51-200 Employees (Global)        0.073328\n",
       "10k-50k Employees (India)        0.036449\n",
       "201-500 Employees (Global)       0.029588\n",
       "1k-5k Employees (Global)         0.028731\n",
       "501-1k Employees (Global)        0.018010\n",
       "5k-10k Employees (India)         0.018010\n",
       "1-10 Employees (India)           0.009434\n",
       "1 Lakh+ Employees (India)        0.009005\n",
       "10k-50k Employees (Global)       0.008148\n",
       "50k-1 Lakh Employees (India)     0.005575\n",
       "5k-10k Employees (Global)        0.003431\n",
       "2-10 Employees (Global)          0.002144\n",
       "1 Lakh+ Employees (Global)       0.001286\n",
       "50k-1 Lakh Employees (Global)    0.001286\n",
       "10k+ Employees (Global)          0.000858\n",
       "1-10 Employees (Global)          0.000858\n",
       "Name: No_of_Employee, dtype: float64"
      ]
     },
     "execution_count": 64,
     "metadata": {},
     "output_type": "execute_result"
    }
   ],
   "source": [
    "df['No_of_Employee'].value_counts(normalize=True)"
   ]
  },
  {
   "cell_type": "code",
   "execution_count": 65,
   "id": "d2c5d60e",
   "metadata": {},
   "outputs": [],
   "source": [
    "%matplotlib inline"
   ]
  },
  {
   "cell_type": "code",
   "execution_count": 66,
   "id": "f5897601",
   "metadata": {},
   "outputs": [
    {
     "data": {
      "text/plain": [
       "<AxesSubplot:>"
      ]
     },
     "execution_count": 66,
     "metadata": {},
     "output_type": "execute_result"
    },
    {
     "data": {
      "image/png": "[encoded data removed]",
      "text/plain": [
       "<Figure size 432x288 with 1 Axes>"
      ]
     },
     "metadata": {
      "needs_background": "light"
     },
     "output_type": "display_data"
    }
   ],
   "source": [
    "df['No_of_Employee'].value_counts().plot(kind=\"bar\")"
   ]
  },
  {
   "cell_type": "code",
   "execution_count": 67,
   "id": "2859a499",
   "metadata": {},
   "outputs": [
    {
     "data": {
      "text/plain": [
       "<AxesSubplot:>"
      ]
     },
     "execution_count": 67,
     "metadata": {},
     "output_type": "execute_result"
    },
    {
     "data": {
      "image/png": "[encoded data removed]",
      "text/plain": [
       "<Figure size 1080x504 with 1 Axes>"
      ]
     },
     "metadata": {
      "needs_background": "light"
     },
     "output_type": "display_data"
    }
   ],
   "source": [
    "df['No_of_Employee'].value_counts().plot(kind=\"bar\", figsize=(15,7), color=\"#61d199\")"
   ]
  },
  {
   "cell_type": "code",
   "execution_count": 68,
   "id": "c2cb5b09",
   "metadata": {},
   "outputs": [
    {
     "data": {
      "text/html": [
       "<div>\n",
       "<style scoped>\n",
       "    .dataframe tbody tr th:only-of-type {\n",
       "        vertical-align: middle;\n",
       "    }\n",
       "\n",
       "    .dataframe tbody tr th {\n",
       "        vertical-align: top;\n",
       "    }\n",
       "\n",
       "    .dataframe thead th {\n",
       "        text-align: right;\n",
       "    }\n",
       "</style>\n",
       "<table border=\"1\" class=\"dataframe\">\n",
       "  <thead>\n",
       "    <tr style=\"text-align: right;\">\n",
       "      <th></th>\n",
       "      <th>Unnamed: 0</th>\n",
       "      <th>name</th>\n",
       "      <th>rating</th>\n",
       "      <th>reviews</th>\n",
       "      <th>company_type</th>\n",
       "      <th>Head_Quarters</th>\n",
       "      <th>Company_Age</th>\n",
       "      <th>No_of_Employee</th>\n",
       "    </tr>\n",
       "  </thead>\n",
       "  <tbody>\n",
       "    <tr>\n",
       "      <th>0</th>\n",
       "      <td>0</td>\n",
       "      <td>ICICI Bank</td>\n",
       "      <td>4.0</td>\n",
       "      <td>(33.6k Reviews)</td>\n",
       "      <td>Public</td>\n",
       "      <td>Mumbai,Maharashtra + 1020 more</td>\n",
       "      <td>28</td>\n",
       "      <td>1 Lakh+ Employees (India)</td>\n",
       "    </tr>\n",
       "    <tr>\n",
       "      <th>1</th>\n",
       "      <td>1</td>\n",
       "      <td>HDFC Bank</td>\n",
       "      <td>4.0</td>\n",
       "      <td>(37.9k Reviews)</td>\n",
       "      <td>Public</td>\n",
       "      <td>Mumbai,Maharashtra + 1168 more</td>\n",
       "      <td>28</td>\n",
       "      <td>1 Lakh+ Employees (India)</td>\n",
       "    </tr>\n",
       "    <tr>\n",
       "      <th>2</th>\n",
       "      <td>2</td>\n",
       "      <td>HCL Technologies</td>\n",
       "      <td>3.9</td>\n",
       "      <td>(17.4k Reviews)</td>\n",
       "      <td>Public</td>\n",
       "      <td>Noida,Uttar Pradesh + 138 more</td>\n",
       "      <td>31</td>\n",
       "      <td>1 Lakh+ Employees (India)</td>\n",
       "    </tr>\n",
       "  </tbody>\n",
       "</table>\n",
       "</div>"
      ],
      "text/plain": [
       "   Unnamed: 0              name  rating          reviews company_type  \\\n",
       "0           0        ICICI Bank     4.0  (33.6k Reviews)       Public   \n",
       "1           1         HDFC Bank     4.0  (37.9k Reviews)       Public   \n",
       "2           2  HCL Technologies     3.9  (17.4k Reviews)       Public   \n",
       "\n",
       "                    Head_Quarters Company_Age             No_of_Employee  \n",
       "0  Mumbai,Maharashtra + 1020 more          28  1 Lakh+ Employees (India)  \n",
       "1  Mumbai,Maharashtra + 1168 more          28  1 Lakh+ Employees (India)  \n",
       "2  Noida,Uttar Pradesh + 138 more          31  1 Lakh+ Employees (India)  "
      ]
     },
     "execution_count": 68,
     "metadata": {},
     "output_type": "execute_result"
    }
   ],
   "source": [
    "public = df[df['company_type'] == 'Public']\n",
    "public.head(3)"
   ]
  },
  {
   "cell_type": "code",
   "execution_count": 69,
   "id": "ab29a15b",
   "metadata": {},
   "outputs": [
    {
     "data": {
      "text/plain": [
       "(407, 8)"
      ]
     },
     "execution_count": 69,
     "metadata": {},
     "output_type": "execute_result"
    }
   ],
   "source": [
    "public.shape"
   ]
  },
  {
   "cell_type": "code",
   "execution_count": 70,
   "id": "66f6a9f6",
   "metadata": {},
   "outputs": [
    {
     "data": {
      "text/plain": [
       "Private                         3200\n",
       "Public                           407\n",
       "Bengaluru                        334\n",
       "New Delhi                        259\n",
       "Mumbai                           243\n",
       "                                ... \n",
       "Bengaluru,karnataka + 1 more       1\n",
       "Karad,Maharashtra                  1\n",
       "Muscat + 1 more                    1\n",
       "Haveri + 2 more                    1\n",
       "Kanpur,Uttar Pradesh               1\n",
       "Name: company_type, Length: 931, dtype: int64"
      ]
     },
     "execution_count": 70,
     "metadata": {},
     "output_type": "execute_result"
    }
   ],
   "source": [
    "df['company_type'].value_counts()"
   ]
  },
  {
   "cell_type": "code",
   "execution_count": 71,
   "id": "543a753d",
   "metadata": {},
   "outputs": [
    {
     "data": {
      "text/plain": [
       "Public    407\n",
       "Name: company_type, dtype: int64"
      ]
     },
     "execution_count": 71,
     "metadata": {},
     "output_type": "execute_result"
    }
   ],
   "source": [
    "public['company_type'].value_counts()"
   ]
  },
  {
   "cell_type": "code",
   "execution_count": 72,
   "id": "eb53c9af",
   "metadata": {},
   "outputs": [],
   "source": [
    "public = df[df['company_type'] == 'Public']"
   ]
  },
  {
   "cell_type": "code",
   "execution_count": 73,
   "id": "5f0f651f",
   "metadata": {},
   "outputs": [],
   "source": [
    "private = df[df['company_type'] == 'Private']"
   ]
  },
  {
   "cell_type": "code",
   "execution_count": 81,
   "id": "2879cd16",
   "metadata": {},
   "outputs": [
    {
     "name": "stdout",
     "output_type": "stream",
     "text": [
      "3.8336609336609317 3.8171159874608147 3.9 4.0\n"
     ]
    }
   ],
   "source": [
    "print(public['rating'].mean(),\n",
    "      private['rating'].mean(),\n",
    "      public['rating'].median(),\n",
    "      private['rating'].median()\n",
    "     )"
   ]
  },
  {
   "cell_type": "code",
   "execution_count": 82,
   "id": "290da3a5",
   "metadata": {},
   "outputs": [],
   "source": [
    "over4 = df[df['rating'] >= 4]\n",
    "under3 = df[df['rating'] <= 3 ]"
   ]
  },
  {
   "cell_type": "code",
   "execution_count": 84,
   "id": "7bed14aa",
   "metadata": {},
   "outputs": [
    {
     "name": "stdout",
     "output_type": "stream",
     "text": [
      "Private                   0.392739\n",
      "Public                    0.045733\n",
      "Bengaluru                 0.042904\n",
      "Pune                      0.035125\n",
      "New Delhi                 0.029939\n",
      "                            ...   \n",
      "Visakhapatnam + 2 more    0.000236\n",
      "Vijayawada + 6 more       0.000236\n",
      "Vadodara + 6 more         0.000236\n",
      "Kollam + 3 more           0.000236\n",
      "Nellore + 5 more          0.000236\n",
      "Name: company_type, Length: 611, dtype: float64\n",
      "Private               0.350608\n",
      "Mumbai                0.051184\n",
      "Bengaluru             0.051184\n",
      "New Delhi             0.046705\n",
      "Pune                  0.027511\n",
      "                        ...   \n",
      "Chennai,Tamil Nadu    0.000640\n",
      "Bengaluru + 4 more    0.000640\n",
      "Ahmedabad + 2 more    0.000640\n",
      "Mumbai + 3 more       0.000640\n",
      "Basel                 0.000640\n",
      "Name: company_type, Length: 260, dtype: float64\n"
     ]
    }
   ],
   "source": [
    "print(over4['company_type'].value_counts(normalize=True))\n",
    "print(under3['company_type'].value_counts(normalize=True))"
   ]
  },
  {
   "cell_type": "code",
   "execution_count": 85,
   "id": "9442c5f3",
   "metadata": {},
   "outputs": [
    {
     "name": "stdout",
     "output_type": "stream",
     "text": [
      "4804\n",
      "1782\n"
     ]
    }
   ],
   "source": [
    "print(len(over4))\n",
    "print(len(under3))"
   ]
  },
  {
   "cell_type": "code",
   "execution_count": 87,
   "id": "2753a866",
   "metadata": {},
   "outputs": [
    {
     "data": {
      "text/html": [
       "<div>\n",
       "<style scoped>\n",
       "    .dataframe tbody tr th:only-of-type {\n",
       "        vertical-align: middle;\n",
       "    }\n",
       "\n",
       "    .dataframe tbody tr th {\n",
       "        vertical-align: top;\n",
       "    }\n",
       "\n",
       "    .dataframe thead th {\n",
       "        text-align: right;\n",
       "    }\n",
       "</style>\n",
       "<table border=\"1\" class=\"dataframe\">\n",
       "  <thead>\n",
       "    <tr style=\"text-align: right;\">\n",
       "      <th></th>\n",
       "      <th>Unnamed: 0</th>\n",
       "      <th>name</th>\n",
       "      <th>rating</th>\n",
       "      <th>reviews</th>\n",
       "      <th>company_type</th>\n",
       "      <th>Head_Quarters</th>\n",
       "      <th>Company_Age</th>\n",
       "      <th>No_of_Employee</th>\n",
       "    </tr>\n",
       "  </thead>\n",
       "  <tbody>\n",
       "    <tr>\n",
       "      <th>0</th>\n",
       "      <td>0</td>\n",
       "      <td>ICICI Bank</td>\n",
       "      <td>4.0</td>\n",
       "      <td>(33.6k Reviews)</td>\n",
       "      <td>Public</td>\n",
       "      <td>Mumbai,Maharashtra + 1020 more</td>\n",
       "      <td>28</td>\n",
       "      <td>1 Lakh+ Employees (India)</td>\n",
       "    </tr>\n",
       "    <tr>\n",
       "      <th>1</th>\n",
       "      <td>1</td>\n",
       "      <td>HDFC Bank</td>\n",
       "      <td>4.0</td>\n",
       "      <td>(37.9k Reviews)</td>\n",
       "      <td>Public</td>\n",
       "      <td>Mumbai,Maharashtra + 1168 more</td>\n",
       "      <td>28</td>\n",
       "      <td>1 Lakh+ Employees (India)</td>\n",
       "    </tr>\n",
       "    <tr>\n",
       "      <th>4</th>\n",
       "      <td>4</td>\n",
       "      <td>IBM</td>\n",
       "      <td>4.2</td>\n",
       "      <td>(20.7k Reviews)</td>\n",
       "      <td>Public</td>\n",
       "      <td>Armonk,New York + 115 more</td>\n",
       "      <td>111</td>\n",
       "      <td>1 Lakh+ Employees (India)</td>\n",
       "    </tr>\n",
       "    <tr>\n",
       "      <th>9</th>\n",
       "      <td>9</td>\n",
       "      <td>IDFC FIRST Bank</td>\n",
       "      <td>4.0</td>\n",
       "      <td>(4.9k Reviews)</td>\n",
       "      <td>Public</td>\n",
       "      <td>Mumbai,Maharashtra + 369 more</td>\n",
       "      <td>4</td>\n",
       "      <td>10k-50k Employees (India)</td>\n",
       "    </tr>\n",
       "    <tr>\n",
       "      <th>10</th>\n",
       "      <td>10</td>\n",
       "      <td>Yes Bank</td>\n",
       "      <td>4.0</td>\n",
       "      <td>(4.5k Reviews)</td>\n",
       "      <td>Public</td>\n",
       "      <td>Mumbai,Maharashtra + 353 more</td>\n",
       "      <td>18</td>\n",
       "      <td>10k-50k Employees (India)</td>\n",
       "    </tr>\n",
       "    <tr>\n",
       "      <th>...</th>\n",
       "      <td>...</td>\n",
       "      <td>...</td>\n",
       "      <td>...</td>\n",
       "      <td>...</td>\n",
       "      <td>...</td>\n",
       "      <td>...</td>\n",
       "      <td>...</td>\n",
       "      <td>...</td>\n",
       "    </tr>\n",
       "    <tr>\n",
       "      <th>8263</th>\n",
       "      <td>8263</td>\n",
       "      <td>Indus Fila</td>\n",
       "      <td>5.0</td>\n",
       "      <td>(1 Reviews)</td>\n",
       "      <td>Public</td>\n",
       "      <td>Bangalore</td>\n",
       "      <td>NaN</td>\n",
       "      <td>NaN</td>\n",
       "    </tr>\n",
       "    <tr>\n",
       "      <th>8266</th>\n",
       "      <td>8266</td>\n",
       "      <td>Milestone Global</td>\n",
       "      <td>4.0</td>\n",
       "      <td>(1 Reviews)</td>\n",
       "      <td>Public</td>\n",
       "      <td>Bangalore</td>\n",
       "      <td>31</td>\n",
       "      <td>51-200 Employees (India)</td>\n",
       "    </tr>\n",
       "    <tr>\n",
       "      <th>8315</th>\n",
       "      <td>8315</td>\n",
       "      <td>Indus Fila</td>\n",
       "      <td>5.0</td>\n",
       "      <td>(1 Reviews)</td>\n",
       "      <td>Public</td>\n",
       "      <td>Bangalore</td>\n",
       "      <td>NaN</td>\n",
       "      <td>NaN</td>\n",
       "    </tr>\n",
       "    <tr>\n",
       "      <th>8409</th>\n",
       "      <td>8409</td>\n",
       "      <td>Trc Financial Se...</td>\n",
       "      <td>4.0</td>\n",
       "      <td>(1 Reviews)</td>\n",
       "      <td>Public</td>\n",
       "      <td>NaN</td>\n",
       "      <td>NaN</td>\n",
       "      <td>NaN</td>\n",
       "    </tr>\n",
       "    <tr>\n",
       "      <th>8467</th>\n",
       "      <td>8467</td>\n",
       "      <td>Tainwala Group</td>\n",
       "      <td>4.0</td>\n",
       "      <td>(1 Reviews)</td>\n",
       "      <td>Public</td>\n",
       "      <td>Andheri East</td>\n",
       "      <td>37</td>\n",
       "      <td>51-200 Employees (Global)</td>\n",
       "    </tr>\n",
       "  </tbody>\n",
       "</table>\n",
       "<p>194 rows × 8 columns</p>\n",
       "</div>"
      ],
      "text/plain": [
       "      Unnamed: 0                 name  rating          reviews company_type  \\\n",
       "0              0           ICICI Bank     4.0  (33.6k Reviews)       Public   \n",
       "1              1            HDFC Bank     4.0  (37.9k Reviews)       Public   \n",
       "4              4                  IBM     4.2  (20.7k Reviews)       Public   \n",
       "9              9      IDFC FIRST Bank     4.0   (4.9k Reviews)       Public   \n",
       "10            10             Yes Bank     4.0   (4.5k Reviews)       Public   \n",
       "...          ...                  ...     ...              ...          ...   \n",
       "8263        8263           Indus Fila     5.0      (1 Reviews)       Public   \n",
       "8266        8266     Milestone Global     4.0      (1 Reviews)       Public   \n",
       "8315        8315           Indus Fila     5.0      (1 Reviews)       Public   \n",
       "8409        8409  Trc Financial Se...     4.0      (1 Reviews)       Public   \n",
       "8467        8467       Tainwala Group     4.0      (1 Reviews)       Public   \n",
       "\n",
       "                       Head_Quarters Company_Age             No_of_Employee  \n",
       "0     Mumbai,Maharashtra + 1020 more          28  1 Lakh+ Employees (India)  \n",
       "1     Mumbai,Maharashtra + 1168 more          28  1 Lakh+ Employees (India)  \n",
       "4         Armonk,New York + 115 more         111  1 Lakh+ Employees (India)  \n",
       "9      Mumbai,Maharashtra + 369 more           4  10k-50k Employees (India)  \n",
       "10     Mumbai,Maharashtra + 353 more          18  10k-50k Employees (India)  \n",
       "...                              ...         ...                        ...  \n",
       "8263                       Bangalore         NaN                        NaN  \n",
       "8266                       Bangalore          31   51-200 Employees (India)  \n",
       "8315                       Bangalore         NaN                        NaN  \n",
       "8409                             NaN         NaN                        NaN  \n",
       "8467                    Andheri East          37  51-200 Employees (Global)  \n",
       "\n",
       "[194 rows x 8 columns]"
      ]
     },
     "execution_count": 87,
     "metadata": {},
     "output_type": "execute_result"
    }
   ],
   "source": [
    "filtered = df[(df['company_type'] == 'Public') & (df['rating'] >=4)]\n",
    "filtered"
   ]
  },
  {
   "cell_type": "code",
   "execution_count": 88,
   "id": "4d9fd972",
   "metadata": {},
   "outputs": [
    {
     "data": {
      "text/plain": [
       "0    Mumbai,Maharashtra + 1020 more\n",
       "1    Mumbai,Maharashtra + 1168 more\n",
       "2    Noida,Uttar Pradesh + 138 more\n",
       "3    Mumbai,Maharashtra + 1041 more\n",
       "4        Armonk,New York + 115 more\n",
       "Name: Head_Quarters, dtype: object"
      ]
     },
     "execution_count": 88,
     "metadata": {},
     "output_type": "execute_result"
    }
   ],
   "source": [
    "df[\"Head_Quarters\"].head()"
   ]
  },
  {
   "cell_type": "code",
   "execution_count": 96,
   "id": "0de77437",
   "metadata": {},
   "outputs": [
    {
     "data": {
      "text/plain": [
       "False    0.894275\n",
       "True     0.105725\n",
       "Name: Head_Quarters, dtype: float64"
      ]
     },
     "execution_count": 96,
     "metadata": {},
     "output_type": "execute_result"
    }
   ],
   "source": [
    "loc_mumbai = df[\"Head_Quarters\"].str.contains('Mumbai')\n",
    "loc_mumbai.value_counts(normalize=True)"
   ]
  },
  {
   "cell_type": "code",
   "execution_count": 94,
   "id": "261021b8",
   "metadata": {},
   "outputs": [
    {
     "data": {
      "text/html": [
       "<div>\n",
       "<style scoped>\n",
       "    .dataframe tbody tr th:only-of-type {\n",
       "        vertical-align: middle;\n",
       "    }\n",
       "\n",
       "    .dataframe tbody tr th {\n",
       "        vertical-align: top;\n",
       "    }\n",
       "\n",
       "    .dataframe thead th {\n",
       "        text-align: right;\n",
       "    }\n",
       "</style>\n",
       "<table border=\"1\" class=\"dataframe\">\n",
       "  <thead>\n",
       "    <tr style=\"text-align: right;\">\n",
       "      <th></th>\n",
       "      <th>0</th>\n",
       "      <th>1</th>\n",
       "    </tr>\n",
       "  </thead>\n",
       "  <tbody>\n",
       "    <tr>\n",
       "      <th>0</th>\n",
       "      <td>Mumbai,Maharashtra</td>\n",
       "      <td>1020 more</td>\n",
       "    </tr>\n",
       "    <tr>\n",
       "      <th>1</th>\n",
       "      <td>Mumbai,Maharashtra</td>\n",
       "      <td>1168 more</td>\n",
       "    </tr>\n",
       "    <tr>\n",
       "      <th>2</th>\n",
       "      <td>Noida,Uttar Pradesh</td>\n",
       "      <td>138 more</td>\n",
       "    </tr>\n",
       "    <tr>\n",
       "      <th>3</th>\n",
       "      <td>Mumbai,Maharashtra</td>\n",
       "      <td>1041 more</td>\n",
       "    </tr>\n",
       "    <tr>\n",
       "      <th>4</th>\n",
       "      <td>Armonk,New York</td>\n",
       "      <td>115 more</td>\n",
       "    </tr>\n",
       "  </tbody>\n",
       "</table>\n",
       "</div>"
      ],
      "text/plain": [
       "                      0           1\n",
       "0   Mumbai,Maharashtra    1020 more\n",
       "1   Mumbai,Maharashtra    1168 more\n",
       "2  Noida,Uttar Pradesh     138 more\n",
       "3   Mumbai,Maharashtra    1041 more\n",
       "4      Armonk,New York     115 more"
      ]
     },
     "execution_count": 94,
     "metadata": {},
     "output_type": "execute_result"
    }
   ],
   "source": [
    "location = df[\"Head_Quarters\"].str.split('+', expand=True)\n",
    "location.head()"
   ]
  }
 ],
 "metadata": {
  "kernelspec": {
   "display_name": "Python 3 (ipykernel)",
   "language": "python",
   "name": "python3"
  },
  "language_info": {
   "codemirror_mode": {
    "name": "ipython",
    "version": 3
   },
   "file_extension": ".py",
   "mimetype": "text/x-python",
   "name": "python",
   "nbconvert_exporter": "python",
   "pygments_lexer": "ipython3",
   "version": "3.9.12"
  }
 },
 "nbformat": 4,
 "nbformat_minor": 5
}
